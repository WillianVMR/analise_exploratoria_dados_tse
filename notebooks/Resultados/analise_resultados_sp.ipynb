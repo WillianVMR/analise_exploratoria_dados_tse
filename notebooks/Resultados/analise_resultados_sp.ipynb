{
 "cells": [
  {
   "cell_type": "code",
   "execution_count": 2,
   "metadata": {},
   "outputs": [],
   "source": [
    "import pandas as pd\n",
    "import numpy as np\n",
    "import geopandas as gpp\n",
    "import seaborn as sns\n",
    "\n",
    "df_votacao_candidato_munzona = pd.read_csv('/Users/willianribeiro/Documents/GitHub/analise_exploratoria_dados_tse/data/Resultados/2020/votacao_candidato_munzona_2020/votacao_candidato_munzona_2020_BRASIL.csv', sep=';', encoding='Latin 1')\n",
    "df_votacao_partido_munzona = pd.read_csv('/Users/willianribeiro/Documents/GitHub/analise_exploratoria_dados_tse/data/Resultados/2020/votacao_partido_munzona_2020/votacao_partido_munzona_2020_BRASIL.csv', sep=';', encoding='Latin 1')\n",
    "df_detalhe_votacao_munzona = pd.read_csv('/Users/willianribeiro/Documents/GitHub/analise_exploratoria_dados_tse/data/Resultados/2020/detalhe_votacao_munzona_2020/detalhe_votacao_munzona_2020_BRASIL.csv', sep=';', encoding='Latin 1')"
   ]
  },
  {
   "cell_type": "code",
   "execution_count": 3,
   "metadata": {},
   "outputs": [
    {
     "data": {
      "text/plain": [
       "Index(['DT_GERACAO', 'HH_GERACAO', 'ANO_ELEICAO', 'CD_TIPO_ELEICAO',\n",
       "       'NM_TIPO_ELEICAO', 'NR_TURNO', 'CD_ELEICAO', 'DS_ELEICAO', 'DT_ELEICAO',\n",
       "       'TP_ABRANGENCIA', 'SG_UF', 'SG_UE', 'NM_UE', 'CD_MUNICIPIO',\n",
       "       'NM_MUNICIPIO', 'NR_ZONA', 'CD_CARGO', 'DS_CARGO', 'SQ_CANDIDATO',\n",
       "       'NR_CANDIDATO', 'NM_CANDIDATO', 'NM_URNA_CANDIDATO',\n",
       "       'NM_SOCIAL_CANDIDATO', 'CD_SITUACAO_CANDIDATURA',\n",
       "       'DS_SITUACAO_CANDIDATURA', 'CD_DETALHE_SITUACAO_CAND',\n",
       "       'DS_DETALHE_SITUACAO_CAND', 'TP_AGREMIACAO', 'NR_PARTIDO', 'SG_PARTIDO',\n",
       "       'NM_PARTIDO', 'NR_FEDERACAO', 'NM_FEDERACAO', 'SG_FEDERACAO',\n",
       "       'DS_COMPOSICAO_FEDERACAO', 'SQ_COLIGACAO', 'NM_COLIGACAO',\n",
       "       'DS_COMPOSICAO_COLIGACAO', 'ST_VOTO_EM_TRANSITO', 'QT_VOTOS_NOMINAIS',\n",
       "       'NM_TIPO_DESTINACAO_VOTOS', 'QT_VOTOS_NOMINAIS_VALIDOS',\n",
       "       'CD_SIT_TOT_TURNO', 'DS_SIT_TOT_TURNO'],\n",
       "      dtype='object')"
      ]
     },
     "execution_count": 3,
     "metadata": {},
     "output_type": "execute_result"
    }
   ],
   "source": [
    "df_votacao_candidato_munzona.columns"
   ]
  },
  {
   "cell_type": "code",
   "execution_count": 4,
   "metadata": {},
   "outputs": [
    {
     "data": {
      "text/plain": [
       "Index(['DT_GERACAO', 'HH_GERACAO', 'ANO_ELEICAO', 'CD_TIPO_ELEICAO',\n",
       "       'NM_TIPO_ELEICAO', 'NR_TURNO', 'CD_ELEICAO', 'DS_ELEICAO', 'DT_ELEICAO',\n",
       "       'TP_ABRANGENCIA', 'SG_UF', 'SG_UE', 'NM_UE', 'CD_MUNICIPIO',\n",
       "       'NM_MUNICIPIO', 'NR_ZONA', 'CD_CARGO', 'DS_CARGO', 'TP_AGREMIACAO',\n",
       "       'NR_PARTIDO', 'SG_PARTIDO', 'NM_PARTIDO', 'NR_FEDERACAO',\n",
       "       'NM_FEDERACAO', 'SG_FEDERACAO', 'DS_COMPOSICAO_FEDERACAO',\n",
       "       'SQ_COLIGACAO', 'NM_COLIGACAO', 'DS_COMPOSICAO_COLIGACAO',\n",
       "       'ST_VOTO_EM_TRANSITO', 'QT_VOTOS_LEGENDA_VALIDOS',\n",
       "       'QT_VOTOS_NOMINAIS_CONVR_LEG', 'QT_TOTAL_VOTOS_LEG_VALIDOS',\n",
       "       'QT_VOTOS_NOMINAIS_VALIDOS', 'QT_VOTOS_LEGENDA_ANUL_SUBJUD',\n",
       "       'QT_VOTOS_NOMINAIS_ANUL_SUBJUD'],\n",
       "      dtype='object')"
      ]
     },
     "execution_count": 4,
     "metadata": {},
     "output_type": "execute_result"
    }
   ],
   "source": [
    "df_votacao_partido_munzona.columns"
   ]
  },
  {
   "cell_type": "code",
   "execution_count": 5,
   "metadata": {},
   "outputs": [
    {
     "data": {
      "text/plain": [
       "Index(['DT_GERACAO', 'HH_GERACAO', 'ANO_ELEICAO', 'CD_TIPO_ELEICAO',\n",
       "       'NM_TIPO_ELEICAO', 'NR_TURNO', 'CD_ELEICAO', 'DS_ELEICAO', 'DT_ELEICAO',\n",
       "       'TP_ABRANGENCIA', 'SG_UF', 'SG_UE', 'NM_UE', 'CD_MUNICIPIO',\n",
       "       'NM_MUNICIPIO', 'NR_ZONA', 'CD_CARGO', 'DS_CARGO', 'QT_APTOS',\n",
       "       'QT_SECOES_PRINCIPAIS', 'QT_SECOES_AGREGADAS',\n",
       "       'QT_SECOES_NAO_INSTALADAS', 'QT_TOTAL_SECOES', 'QT_COMPARECIMENTO',\n",
       "       'QT_ELEITORES_SECOES_NAO_INSTALADAS', 'QT_ABSTENCOES',\n",
       "       'ST_VOTO_EM_TRANSITO', 'QT_VOTOS', 'QT_VOTOS_CONCORRENTES',\n",
       "       'QT_VOTOS_VALIDOS', 'QT_VOTOS_NOMINAIS_VALIDOS',\n",
       "       'QT_TOTAL_VOTOS_LEG_VALIDOS', 'QT_VOTOS_LEGENDA_VALIDOS',\n",
       "       'QT_VOTOS_NOMINAIS_CONVR_LEG', 'QT_TOTAL_VOTOS_ANULADOS',\n",
       "       'QT_VOTOS_NOMINAIS_ANULADOS', 'QT_VOTOS_LEGENDA_ANULADOS',\n",
       "       'QT_TOTAL_VOTOS_ANUL_SUBJUD', 'QT_VOTOS_NOMINAIS_ANUL_SUBJUD',\n",
       "       'QT_VOTOS_LEGENDA_ANUL_SUBJUD', 'QT_VOTOS_BRANCOS',\n",
       "       'QT_TOTAL_VOTOS_NULOS', 'QT_VOTOS_NULOS', 'QT_VOTOS_NULO_TECNICO',\n",
       "       'QT_VOTOS_ANULADOS_APU_SEP', 'HH_ULTIMA_TOTALIZACAO',\n",
       "       'DT_ULTIMA_TOTALIZACAO'],\n",
       "      dtype='object')"
      ]
     },
     "execution_count": 5,
     "metadata": {},
     "output_type": "execute_result"
    }
   ],
   "source": [
    "df_detalhe_votacao_munzona.columns"
   ]
  },
  {
   "cell_type": "markdown",
   "metadata": {},
   "source": [
    "# Sobre as métricas que queremos fornecer:\n",
    "- Quociente Eleitoral\n",
    "- Quartil Partidário\n",
    "- Total de Eleitores por Municipio\n",
    "- Total de abstenções por Municipio\n",
    "- Total de votos em branco\n",
    "- Gráfico com total de votos por candidato\n",
    "- Gráfico total de votos por partido\n",
    "- Total de Candidatos Eleitos\n",
    "- Clausula de Barreira da Eleição"
   ]
  },
  {
   "cell_type": "markdown",
   "metadata": {},
   "source": [
    "### Quociente Eleitoral \n",
    "\n",
    "Definido como Total de Votos validos dividido Pela quantidade de cadeiras disponíveis"
   ]
  },
  {
   "cell_type": "code",
   "execution_count": 15,
   "metadata": {},
   "outputs": [],
   "source": [
    "def contador_eleitos(dataset_tratado_cidade_cargo):\n",
    "    dicionario_eleicao =  {\n",
    "        'SUPLENTE': 0,\n",
    "        'NÃO ELEITO': 0,\n",
    "        'ELEITO POR QP': 0,\n",
    "        'ELEITO POR MÉDIA': 0\n",
    "    }\n",
    "\n",
    "    # Conjunto para armazenar nomes de candidatos já encontrados\n",
    "    nomes_encontrados = set()\n",
    "\n",
    "    # Iterar pelas linhas do DataFrame\n",
    "    for index, row in dataset_tratado_cidade_cargo.iterrows():\n",
    "        # Verificar se o nome do candidato já apareceu\n",
    "        if row['NM_CANDIDATO'] in nomes_encontrados:\n",
    "        # Ignora a linha se o nome do candidato ja apareceu\n",
    "            pass\n",
    "        else:\n",
    "            nomes_encontrados.add(row['NM_CANDIDATO'])\n",
    "            dicionario_eleicao[row['DS_SIT_TOT_TURNO']] += 1\n",
    "\n",
    "    return dicionario_eleicao"
   ]
  },
  {
   "cell_type": "code",
   "execution_count": 17,
   "metadata": {},
   "outputs": [
    {
     "name": "stdout",
     "output_type": "stream",
     "text": [
      "Total de cadeiras: 55\n",
      "Total de votos: 4427182\n",
      "Quociente eleitoral: 80494.21818181819\n"
     ]
    }
   ],
   "source": [
    "cidade = 'SÃO PAULO'\n",
    "\n",
    "cargo = 'Vereador'\n",
    "\n",
    "df_cidade_filtrado = df_votacao_candidato_munzona[df_votacao_candidato_munzona['NM_MUNICIPIO'] == cidade]\n",
    "\n",
    "df_cidade_filtrado_cargo = df_cidade_filtrado[df_cidade_filtrado['DS_CARGO'] == cargo]\n",
    "\n",
    "resultados_eleitos = contador_eleitos(df_cidade_filtrado_cargo)\n",
    "\n",
    "cadeiras = resultados_eleitos['ELEITO POR QP'] + resultados_eleitos['ELEITO POR MÉDIA']\n",
    "\n",
    "total_votos = df_cidade_filtrado_cargo['QT_VOTOS_NOMINAIS_VALIDOS'].sum()\n",
    "\n",
    "quociente = total_votos / cadeiras\n",
    "\n",
    "print(f'Total de cadeiras: {cadeiras}')\n",
    "print(f'Total de votos: {total_votos}')\n",
    "print(f'Quociente eleitoral: {quociente}')"
   ]
  },
  {
   "cell_type": "markdown",
   "metadata": {},
   "source": [
    "### Quociente Partidário\n",
    "\n",
    "Definido como Total de Votos validos dividido pela quantidade de partidos"
   ]
  },
  {
   "cell_type": "code",
   "execution_count": null,
   "metadata": {},
   "outputs": [],
   "source": [
    "def calculadora_partido(dataset_tratado_cidade_cargo):\n",
    "    dicionario_partido = {}\n",
    "\n",
    "    # Conjunto para armazenar nomes de candidatos já encontrados\n",
    "    partidos_encontrados = set()\n",
    "\n",
    "    # Iterar pelas linhas do DataFrame\n",
    "    for index, row in dataset_tratado_cidade_cargo.iterrows():\n",
    "        # Verificar se o nome do candidato já apareceu\n",
    "        if row['NM_PARTIDO'] in partidos_encontrados:\n",
    "            dicionario_partido[row['NM_PARTIDO']] += row['QT_VOTOS_NOMINAIS_VALIDOS']\n",
    "        else:\n",
    "            partidos_encontrados.add(row['NM_PARTIDO'])\n",
    "            dicionario_partido[row['NM_PARTIDO']] = row['QT_VOTOS_NOMINAIS_VALIDOS']\n",
    "\n",
    "    return dicionario_partido"
   ]
  },
  {
   "cell_type": "code",
   "execution_count": 20,
   "metadata": {},
   "outputs": [
    {
     "data": {
      "text/plain": [
       "Index(['DT_GERACAO', 'HH_GERACAO', 'ANO_ELEICAO', 'CD_TIPO_ELEICAO',\n",
       "       'NM_TIPO_ELEICAO', 'NR_TURNO', 'CD_ELEICAO', 'DS_ELEICAO', 'DT_ELEICAO',\n",
       "       'TP_ABRANGENCIA', 'SG_UF', 'SG_UE', 'NM_UE', 'CD_MUNICIPIO',\n",
       "       'NM_MUNICIPIO', 'NR_ZONA', 'CD_CARGO', 'DS_CARGO', 'TP_AGREMIACAO',\n",
       "       'NR_PARTIDO', 'SG_PARTIDO', 'NM_PARTIDO', 'NR_FEDERACAO',\n",
       "       'NM_FEDERACAO', 'SG_FEDERACAO', 'DS_COMPOSICAO_FEDERACAO',\n",
       "       'SQ_COLIGACAO', 'NM_COLIGACAO', 'DS_COMPOSICAO_COLIGACAO',\n",
       "       'ST_VOTO_EM_TRANSITO', 'QT_VOTOS_LEGENDA_VALIDOS',\n",
       "       'QT_VOTOS_NOMINAIS_CONVR_LEG', 'QT_TOTAL_VOTOS_LEG_VALIDOS',\n",
       "       'QT_VOTOS_NOMINAIS_VALIDOS', 'QT_VOTOS_LEGENDA_ANUL_SUBJUD',\n",
       "       'QT_VOTOS_NOMINAIS_ANUL_SUBJUD'],\n",
       "      dtype='object')"
      ]
     },
     "execution_count": 20,
     "metadata": {},
     "output_type": "execute_result"
    }
   ],
   "source": [
    "df_votacao_partido_munzona.columns"
   ]
  },
  {
   "cell_type": "code",
   "execution_count": null,
   "metadata": {},
   "outputs": [],
   "source": []
  }
 ],
 "metadata": {
  "kernelspec": {
   "display_name": "base",
   "language": "python",
   "name": "python3"
  },
  "language_info": {
   "codemirror_mode": {
    "name": "ipython",
    "version": 3
   },
   "file_extension": ".py",
   "mimetype": "text/x-python",
   "name": "python",
   "nbconvert_exporter": "python",
   "pygments_lexer": "ipython3",
   "version": "3.11.4"
  }
 },
 "nbformat": 4,
 "nbformat_minor": 2
}
